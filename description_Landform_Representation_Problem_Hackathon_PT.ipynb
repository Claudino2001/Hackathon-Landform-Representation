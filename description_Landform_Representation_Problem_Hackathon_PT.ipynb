{
  "cells": [
    {
      "cell_type": "markdown",
      "metadata": {
        "id": "gdw6ZKI_wPiF"
      },
      "source": [
        "<div align=\"center\"><h1> Hackathon HPC SENAI CIMATEC <br>\n",
        "Espacialização de Relevo </h1></div>"
      ]
    },
    {
      "cell_type": "markdown",
      "metadata": {
        "id": "xvUqILDvwPiI"
      },
      "source": [
        "**Murilo Boratto**$^1$\n",
        "\n",
        "$^1$ Supercomputing Center SENAI CIMATEC, Salvador, Bahia, Brazil"
      ]
    },
    {
      "cell_type": "markdown",
      "metadata": {
        "id": "uxqyWcRBwPiJ"
      },
      "source": [
        "## Instalação das Bibliotecas no Colab"
      ]
    },
    {
      "cell_type": "markdown",
      "metadata": {
        "id": "6joOWjDYwPiK"
      },
      "source": [
        "Este é o passo a passo de como instalar as APIs em ambiente virtual do Colab, utilizando a implementação open source."
      ]
    },
    {
      "cell_type": "code",
      "execution_count": 60,
      "metadata": {
        "id": "nZlrZoKqwPiK",
        "colab": {
          "base_uri": "https://localhost:8080/"
        },
        "outputId": "3a6131e6-8c1b-44d1-dcdf-3f585256b7e0"
      },
      "outputs": [
        {
          "output_type": "stream",
          "name": "stdout",
          "text": [
            "Reading package lists... Done\n",
            "Building dependency tree... Done\n",
            "Reading state information... Done\n",
            "libopenblas-dev is already the newest version (0.3.20+ds-1).\n",
            "mpich is already the newest version (4.0-3).\n",
            "0 upgraded, 0 newly installed, 0 to remove and 49 not upgraded.\n"
          ]
        }
      ],
      "source": [
        "!sudo apt install mpich libopenblas-dev"
      ]
    },
    {
      "cell_type": "markdown",
      "metadata": {
        "id": "BGrQhUzlwPiL"
      },
      "source": [
        "## Modulos Necessários para o OGBON\n",
        "\n",
        "Faz-se necessário inicializar os seguintes módulos, **ANTES** de acessar o jupyter-lab:\n",
        "```cpp\n",
        "Currently Loaded Modulefiles:\n",
        "    1) anaconda3/2023.07     \n",
        "    2) openmpi/4.1.5  \n",
        "    3) openblas/0.3.26\n",
        "    4) nvhpc/22.11\n",
        "```"
      ]
    },
    {
      "cell_type": "markdown",
      "metadata": {
        "tags": [],
        "id": "4aa-79NWwPim"
      },
      "source": [
        "---\n",
        "## Otimizações e Aplicações Paralelas"
      ]
    },
    {
      "cell_type": "markdown",
      "metadata": {
        "id": "JOdd6nM7wPim"
      },
      "source": [
        "### Otimização Algorítmica - Sequencial LAPACK (Inserção da Biblioteca LAPACK)"
      ]
    },
    {
      "cell_type": "code",
      "execution_count": 87,
      "metadata": {
        "colab": {
          "base_uri": "https://localhost:8080/"
        },
        "id": "AvR4JbUtwPin",
        "outputId": "aa081126-1908-48b7-ebc2-1d0e8ababb26"
      },
      "outputs": [
        {
          "output_type": "stream",
          "name": "stdout",
          "text": [
            "Overwriting r3d-sequential-lapack.c\n"
          ]
        }
      ],
      "source": [
        "%%writefile r3d-sequential-lapack.c\n",
        "#include <stdio.h>\n",
        "#include <stdlib.h>\n",
        "#include <math.h>\n",
        "#include \"omp.h\"\n",
        "\n",
        "#define OUTPUT   \"output.txt\"\n",
        "#define ANOVA    \"anova.txt\"\n",
        "\n",
        "/* Landform Sub-Medio Sao Francisco - Petrolina - PNZ */\n",
        "#define Mxx       5026\n",
        "#define Mxy       5026\n",
        "#define INPUT    \"mde.pnz\"\n",
        "\n",
        "long int    n = 0;      // Number of dates in the matrix - global variable\n",
        "double zm;\n",
        "\n",
        "extern \"C\"{void dgesv_(int *N, int *NRHS, double *A, int *lda, int *ipiv, double *B, int *ldb, int *info);}\n",
        "\n",
        "void dados   (double *x, double *y, double *z );\n",
        "void matrizes(double *A, double *B, double *x, double *y , double *z, int N, int r );\n",
        "void sistema_Lapack(double *a,  double *b, int n);\n",
        "void calcula (double *a, double *x, double *y, double *z, int r);\n",
        "void anova   (double *a, double *x, double *y, double *z, int N, int r);\n",
        "\n",
        "int main(int argc, char **argv){\n",
        "\n",
        "  int r = atoi(argv[1]);        //Degree of a Polynomial\n",
        "  int s = r;                    //Simplify Polynomial Degree\n",
        "\n",
        "  int  N   =  (r+1)*(s+1);      //Number of coefficient of polynomial Landform\n",
        "  int  MAX =  (Mxx+1)*(Mxy+1);\n",
        "\n",
        "  double *A =(double*) malloc(sizeof(double) * N * N); /*Dynamic Alocation by column - A[i + j * N] <---------- LAPACK*/\n",
        "  double *B =(double*) malloc(sizeof(double) * N);\n",
        "  double *x =(double*) malloc(sizeof(double) * MAX);\n",
        "  double *y =(double*) malloc(sizeof(double) * MAX);\n",
        "  double *z =(double*) malloc(sizeof(double) * MAX);\n",
        "\n",
        "  double t1, t2;\n",
        "\n",
        "//printf(\"\\n[Start...]\\n\\n\");\n",
        "\n",
        "t1 = omp_get_wtime();\n",
        "\n",
        "                      //printf(\"\\n(Step 1) Extraction of data file mde.pnz \\n\\n\");\n",
        "                      dados(x, y, z);\n",
        "\n",
        "                      //printf(\"\\n(Step 2) Building Matrix \\n\\n\");\n",
        "                      matrizes(A, B, x, y, z, N, r);\n",
        "\n",
        "                      //printf(\"\\n(Step 3) Solver Linear System (Ax=b) ::LAPACK::\\n\\n\");\n",
        "                      sistema_Lapack(A, B, N);\n",
        "\n",
        "                      //printf(\"\\n(Step 4) Reports Landform \\n\\n\");\n",
        "                      anova(B, x, y, z, N, r);\n",
        "\n",
        "\n",
        "t2 = omp_get_wtime();\n",
        "\n",
        "//printf(\"\\n\\n\\n[End]\\n\\n\");\n",
        "\n",
        "                      printf(\"%d\\t%5.2f\\n\",r, t2-t1);\n",
        "\n",
        "  free(A);\n",
        "  free(B);\n",
        "  free(x);\n",
        "  free(y);\n",
        "  free(z);\n",
        "\n",
        "  return 0;\n",
        "\n",
        "}/****************************main*************************************************************/\n",
        "\n",
        "\n",
        "void dados (double *x, double *y, double *z ) {\n",
        "\n",
        "  int col, row, count = -1;\n",
        "  FILE *f;\n",
        "  n = 0;\n",
        "\n",
        "  if ((f = fopen(INPUT,\"r\") ) == NULL) {\n",
        "    printf(\"\\n Erro I/O\\n\");\n",
        "    exit(1);\n",
        "  }\n",
        "\n",
        "  for (row = 0; row < Mxy; ++row) {\n",
        "      for (col = 0; col < Mxx; ++col) {\n",
        "         float h;\n",
        "         int result = fscanf( f, \"%f\", &h);\n",
        "         count++;\n",
        "         if (count % 10 != 0 || h <= 0) continue;\n",
        "         x[n] = row;\n",
        "         y[n] = col;\n",
        "         z[n] = h / 2863.0;\n",
        "         //printf(\"\\n mde[%d,%d] x[%ld]=%f  y[%ld]=%f z[%ld]=%f\", row, col, n, x[n], n, y[n], n, z[n]);\n",
        "         n++;\n",
        "       }\n",
        "  }\n",
        "        //printf(\"\\n n (number of operations for point in the matrix) = %ld\\n\", n );\n",
        "\n",
        " fclose(f);\n",
        "\n",
        "}\n",
        "\n",
        "void matrizes (double *A, double *B, double *x, double *y, double *z, int N, int r ){\n",
        "\n",
        " int i, l, c;\n",
        " int s = r;\n",
        "\n",
        " for (l = 0; l < N; ++l){\n",
        "   for (c = 0; c < N; ++c){\n",
        "      A[ l + c * N ] = 0.0;\n",
        "\n",
        "        if (c == 0)\n",
        "           B[l] = 0.0;\n",
        "\n",
        "\n",
        "        for (i = 0; i < n; ++i){\n",
        "          A[ l + c * N  ] += pow(x[i], (int) (l / (s+1)) + (int) (c / (s+1))) * pow(y[i], l % (r+1) + c % (r+1));\n",
        "            if (c == 0)\n",
        "              B[l] +=  z[i] * pow(x[i], (int) (l / ( s + 1))) * pow(y[i], l % (r + 1));\n",
        "        }\n",
        "   }\n",
        " }\n",
        "\n",
        "/*\n",
        "   printf(\"\\nN (size of the matrix A | number of coefficient of polynomial) = %d\\n\\n\", N);\n",
        "\n",
        "    for (l = 0; l < N; ++l){\n",
        "      for (c = 0; c < N; ++c)\n",
        "         printf(\"%+1.1e \", A[ l + c * N ] );\n",
        "\n",
        "    printf( \"|%+1.1e\\n\", B[l] );\n",
        "   }\n",
        "*/\n",
        "\n",
        "}\n",
        "\n",
        "void sistema_Lapack (double *A,  double *b, int size){\n",
        "\n",
        " int NRHS = 1;\n",
        " int info;\n",
        " int *ipiv = (int *)malloc(sizeof(int)*(10*size));\n",
        " int i;\n",
        "\n",
        " dgesv_(&size, &NRHS, A, &size, ipiv, b, &size, &info);\n",
        "\n",
        "/*\n",
        " if (info != 0)\n",
        "   printf(\"[WARNING]: argument had an illegal value\\n\");\n",
        "    else\n",
        "    {\n",
        "      printf(\"Solution:\\n\");\n",
        "\n",
        "        for (i=0; i < size; ++i)\n",
        "          printf(\"[%12g]\\n\",b[i]);\n",
        "     }\n",
        "*/\n",
        "\n",
        "\n",
        "}\n",
        "\n",
        "\n",
        "void calcula (double *a, double *x, double *y, double *z, int r)\n",
        "{\n",
        "     int    i, c, l;\n",
        "     double Sx, Sy, Sz, e, ze, Se, Sze;\n",
        "     FILE   *f;\n",
        "     int s = r;\n",
        "\n",
        "     Sx= Sy= Sz= Se= Sze= 0.0;\n",
        "\n",
        "     if (( f = fopen(OUTPUT,\"w\")) == NULL)\n",
        "     {\n",
        "        printf(\"\\n Erro I/O\");\n",
        "        exit(3);\n",
        "     }\n",
        "\n",
        "     fprintf(f,\" ==========================================================\\n\");\n",
        "     fprintf(f,\"     i      x[i]         y[i]        ye[i]         e[i]   \\n\");\n",
        "     fprintf(f,\" ==========================================================\\n\");\n",
        "\n",
        "     for (i = 0; i < n; i++)\n",
        "     {\n",
        "        Sx  += x[i];\n",
        "        Sz  += z[i];\n",
        "\n",
        "        ze = 0.0;\n",
        "\n",
        "        for (c = 0; c < r+1; c++)\n",
        "           for (l = 0; l < s+1; l++)\n",
        "              ze += a[c*(r+1)+l] * pow(x[i],c) * pow(y[i],l);\n",
        "\n",
        "        e    = z[i] - ze;\n",
        "        Se  += e;\n",
        "        Sze += ze;\n",
        "\n",
        "        fprintf(f,\" %5d    %9.5e    %9.5e    %9.5e    %9.5e\\n\", i, x[i],y[i], ze, e);\n",
        "     }\n",
        "\n",
        "     fprintf(f,\" ============================================================\\n\");\n",
        "     fprintf(f,\" %5ld    %9.5e   %9.5e   %9.5e    %9.5e\\n\", n, Sx, Sy, Sze, Se);\n",
        "\n",
        "     zm = Sz / n;\n",
        "\n",
        "     fclose(f);\n",
        "}\n",
        "\n",
        "void anova (double *a, double *x, double *y, double *z, int N, int r)\n",
        "{\n",
        "     int    i, glReg, glR, glT, c, l;\n",
        "     double SQReg, SQR, SQT, QMReg, QMR, R2, F, ze;\n",
        "     FILE   *f;\n",
        "     int s=r;\n",
        "\n",
        "     SQR = SQReg = 0.0;\n",
        "\n",
        "     glReg = N;\n",
        "     glR   = n - 2*N;\n",
        "     glT   = n - N;\n",
        "\n",
        "     /*\n",
        "     printf(\"\\n\\n-----------------------------------\\n\");\n",
        "\n",
        "     for (c = 0; c < r+1; ++c){\n",
        "         for (l = 0; l < s+1; ++l)\n",
        "           //printf(\" a[%2d,%2d]= %2d\\n\",c,l, c*(r+1) + l);\n",
        "\n",
        "     }\n",
        "     printf(\"\\n\\n-----------------------------------\\n\");\n",
        "     */\n",
        "\n",
        "     for (i = 0; i < n; ++i)\n",
        "     {\n",
        "        ze = 0.0;\n",
        "        for(c = 0; c < r+1; ++c)\n",
        "           for(l = 0; l < s+1; ++l)\n",
        "              ze += a[c + l*(r+1)] * pow(x[i], c) * pow(y[i], l);\n",
        "\n",
        "        SQReg += (ze   - zm) * (ze   - zm);\n",
        "        SQR   += (z[i] - ze) * (z[i] - ze);\n",
        "     }\n",
        "\n",
        "     SQT   = SQReg + SQR;\n",
        "     QMReg = SQReg / glReg;\n",
        "     QMR   = SQR   / glR;\n",
        "     F     = QMReg / QMR;\n",
        "     R2    = SQReg / SQT;\n",
        "\n",
        "     if ((f=fopen(ANOVA,\"w\")) == NULL)\n",
        "     {\n",
        "        printf(\"\\n Error I/O\\n\");\n",
        "        exit(2);\n",
        "     }\n",
        "\n",
        "     fprintf(f,\" \\n\\n\\n\\n\");\n",
        "     fprintf(f,\" ANOVA\\n\");\n",
        "     fprintf(f,\" =================================================\\n\");\n",
        "     fprintf(f,\" FV           gl      SQ         QM          F    \\n\");\n",
        "     fprintf(f,\" =================================================\\n\");\n",
        "     fprintf(f,\" Regression  %5d  %12e  %12e  %12e\\n\", glReg, SQReg, QMReg, F);\n",
        "     fprintf(f,\" Residue     %5d  %12e  %12e      \\n\", glR  , SQR  , QMR     );\n",
        "     fprintf(f,\" -------------------------------------------------\\n\");\n",
        "     fprintf(f,\" Total      %5d  %12e            \\n\", glT  , SQT            );\n",
        "     fprintf(f,\" =================================================\\n\");\n",
        "     fprintf(f,\" R^2= %12e                        \\n\", R2       );\n",
        "\n",
        "    // printf (\"P(x)=\");\n",
        "\n",
        "     for (c = 0; c < r+1; ++c)\n",
        "        for (l = 0; l < s+1; ++l){\n",
        "           fprintf(f,\"+x^%d*y^%d*\\t%12g\\n\", c, l, a[c + l*(r+1)]);\n",
        "           //printf (\"%12g*(x**%d)*(y**%d) + \",a[c + l*(r+1)], c, l );\n",
        "     }\n",
        "\n",
        "     fclose(f);\n",
        "\n",
        "}"
      ]
    },
    {
      "cell_type": "code",
      "execution_count": 88,
      "metadata": {
        "id": "UC2ZHL9FwPio"
      },
      "outputs": [],
      "source": [
        "!g++ r3d-sequential-lapack.c -o r3d-sequential-lapack -lopenblas -lm -fopenmp -O3"
      ]
    },
    {
      "cell_type": "code",
      "execution_count": 89,
      "metadata": {
        "colab": {
          "base_uri": "https://localhost:8080/"
        },
        "id": "DS5yYddQwPio",
        "outputId": "9d9168b1-ea05-4f89-829a-cc0821b07b40"
      },
      "outputs": [
        {
          "output_type": "stream",
          "name": "stdout",
          "text": [
            "2\t 7.65\n"
          ]
        }
      ],
      "source": [
        "!./r3d-sequential-lapack 2"
      ]
    },
    {
      "cell_type": "markdown",
      "metadata": {
        "id": "EnjzTPNmwPi7"
      },
      "source": [
        "### 1 GPU (CUDA)"
      ]
    },
    {
      "cell_type": "code",
      "execution_count": 98,
      "metadata": {
        "id": "8-P266v7wPi7",
        "colab": {
          "base_uri": "https://localhost:8080/"
        },
        "outputId": "a858c1bd-63a8-46b1-f738-32e669f6b375"
      },
      "outputs": [
        {
          "output_type": "stream",
          "name": "stdout",
          "text": [
            "Overwriting r3d-1GPU.cu\n"
          ]
        }
      ],
      "source": [
        "%%writefile r3d-1GPU.cu\n",
        "#include <stdio.h>\n",
        "#include <stdlib.h>\n",
        "#include <math.h>\n",
        "#include \"omp.h\"\n",
        "\n",
        "#define OUTPUT   \"output.txt\"\n",
        "#define ANOVA    \"anovaCUDA.txt\"\n",
        "\n",
        "/* Landform Sub-Medio Sao Francisco - Petrolina - PNZ */\n",
        "#define Mxx       5026\n",
        "#define Mxy       5026\n",
        "#define INPUT    \"mde.pnz\"\n",
        "\n",
        "long int    n = 0;      // Number of dates in the matrix - global variable\n",
        "double zm;\n",
        "\n",
        "extern \"C\"{void dgesv_(int *N, int *NRHS, double *A, int *lda, int *ipiv, double *B, int *ldb, int *info);}\n",
        "\n",
        "void dados   (double *x, double *y, double *z );\n",
        "void sistema_Lapack(double *a,  double *b, int n);\n",
        "void anova   (double *a, double *x, double *y, double *z, int N, int r);\n",
        "__global__ void matrizes (double *A, double *B, double *x, double *y, double *z, int N, int r ){\n",
        "\tprintf(\"\\n ate aqui ok cuda\\n\");\n",
        "  int i, l, c, idxI, idxJ, strideI, strideJ;\n",
        "\tidxI = blockIdx.x * blockDim.x + threadIdx.x;\n",
        "\tidxJ = blockIdx.y * blockDim.y + threadIdx.y;\n",
        "\tstrideI = blockDim.x * gridDim.x;\n",
        "  strideJ = blockDim.y * gridDim.y;\n",
        "\tfor (l = idxI; l < N; l += strideI){\n",
        "\t\tfor (c = idxJ; c < N; c += strideJ){\n",
        "      \t\t\tA[ l + c * N ] = 0.0;\n",
        "        \t\tif (c == 0)\n",
        "           \t\t\tB[l] = 0.0;\n",
        "        \t\tfor (i = 0; i < N; ++i){\n",
        "          \t\t\tA[ l + c * N  ] += pow(x[i], (int) (l / (r+1)) + (int) (c / (r+1))) * pow(y[i], l % (r+1) + c % (r+1));\n",
        "            \t\t\tif (c == 0)\n",
        "              \t\t\t\tB[l] +=  z[i] * pow(x[i], (int) (l / (r + 1))) * pow(y[i], l % (r + 1));\n",
        "\t\t\t}\n",
        "\t\t}\n",
        "  printf(\"\\n ate aqui ok cudafim\\n\");\n",
        "\t}\n",
        "  printf(\"\\nN (size of the matrix A | number of coefficient of polynomial) = %d\\n\\n\", N);\n",
        "\n",
        "    for (l = 0; l < N; ++l){\n",
        "      for (c = 0; c < N; ++c)\n",
        "         printf(\"%+1.1e \", A[ l + c * N ] );\n",
        "\n",
        "    printf( \"|%+1.1e\\n\", B[l] );\n",
        "   }\n",
        "}\n",
        "\n",
        "int main(int argc, char **argv){\n",
        "\n",
        "  int r = atoi(argv[1]);        //Degree of a Polynomial\n",
        "  int s = r;                    //Simplify Polynomial Degree\n",
        "\n",
        "  int  N   =  (r+1)*(s+1);      //Number of coefficient of polynomial Landform\n",
        "  int  MAX =  (Mxx+1)*(Mxy+1);\n",
        "  int blockSize = atoi(argv[2]);\n",
        "\n",
        "  double *A =(double*) malloc(sizeof(double) * N * N); /*Dynamic Alocation by column - A[i + j * N] <---------- LAPACK*/\n",
        "  double *B =(double*) malloc(sizeof(double) * N);\n",
        "  double *x =(double*) malloc(sizeof(double) * MAX);\n",
        "  double *y =(double*) malloc(sizeof(double) * MAX);\n",
        "  double *z =(double*) malloc(sizeof(double) * MAX);\n",
        "\n",
        "  double t1, t2;\n",
        "\n",
        "  cudaMallocManaged(&A, sizeof(double) * N * N);\n",
        "  cudaMallocManaged(&B, sizeof(double) * N);\n",
        "  cudaMallocManaged(&x, sizeof(double) * MAX);\n",
        "  cudaMallocManaged(&y, sizeof(double) * MAX);\n",
        "  cudaMallocManaged(&z, sizeof(double) * MAX);\n",
        "\n",
        "//printf(\"\\n[Start...]\\n\\n\");\n",
        "t1 = omp_get_wtime();\n",
        "                      //printf(\"\\n(Step 1) Extraction of data file mde.pnz \\n\\n\");\n",
        "                      dados(x, y, z);\n",
        "                      //printf(\"\\n(Step 2) Building Matrix \\n\\n\");\n",
        "                      dim3 dimGrid( (int) ceil( (float) n / (float) blockSize ), (int) ceil( (float) n / (float) blockSize ) );\n",
        "                      dim3 dimBlock( blockSize, blockSize);\n",
        "                      matrizes<<<dimGrid, dimBlock>>>(A, B, x, y, z, N, r);\n",
        "                      cudaDeviceSynchronize();\n",
        "                      //printf(\"\\n(Step 3) Solver Linear System (Ax=b) ::LAPACK::\\n\\n\");\n",
        "                      sistema_Lapack(A, B, N);\n",
        "                      //printf(\"\\n(Step 4) Reports Landform \\n\\n\");\n",
        "                      anova(B, x, y, z, N, r);\n",
        "\n",
        "\n",
        "t2 = omp_get_wtime();\n",
        "\n",
        "//printf(\"\\n\\n\\n[End]\\n\\n\");\n",
        "\n",
        "                      printf(\"%d\\t%5.2f\\n\",r, t2-t1);\n",
        "\n",
        "  free(A);\n",
        "  free(B);\n",
        "  free(x);\n",
        "  free(y);\n",
        "  free(z);\n",
        "\n",
        "  return 0;\n",
        "\n",
        "}/****************************main*************************************************************/\n",
        "\n",
        "\n",
        "void dados (double *x, double *y, double *z ) {\n",
        "\n",
        "  int col, row, count = -1;\n",
        "  FILE *f;\n",
        "  n = 0;\n",
        "\n",
        "  if ((f = fopen(INPUT,\"r\") ) == NULL) {\n",
        "    printf(\"\\n Erro I/O\\n\");\n",
        "    exit(1);\n",
        "  }\n",
        "\n",
        "  for (row = 0; row < Mxy; ++row) {\n",
        "      for (col = 0; col < Mxx; ++col) {\n",
        "         float h;\n",
        "         int result = fscanf( f, \"%f\", &h);\n",
        "         count++;\n",
        "         if (count % 10 != 0 || h <= 0) continue;\n",
        "         x[n] = row;\n",
        "         y[n] = col;\n",
        "         z[n] = h / 2863.0;\n",
        "         //printf(\"\\n mde[%d,%d] x[%ld]=%f  y[%ld]=%f z[%ld]=%f\", row, col, n, x[n], n, y[n], n, z[n]);\n",
        "         n++;\n",
        "       }\n",
        "  }\n",
        "        //printf(\"\\n n (number of operations for point in the matrix) = %ld\\n\", n );\n",
        "\n",
        " fclose(f);\n",
        "\n",
        "}\n",
        "\n",
        "\n",
        "\n",
        "/*\n",
        "   printf(\"\\nN (size of the matrix A | number of coefficient of polynomial) = %d\\n\\n\", N);\n",
        "\n",
        "    for (l = 0; l < N; ++l){\n",
        "      for (c = 0; c < N; ++c)\n",
        "         printf(\"%+1.1e \", A[ l + c * N ] );\n",
        "\n",
        "    printf( \"|%+1.1e\\n\", B[l] );\n",
        "   }\n",
        "*/\n",
        "\n",
        "\n",
        "void sistema_Lapack (double *A,  double *b, int size){\n",
        "\n",
        " int NRHS = 1;\n",
        " int info;\n",
        " int *ipiv = (int *)malloc(sizeof(int)*(10*size));\n",
        " dgesv_(&size, &NRHS, A, &size, ipiv, b, &size, &info);\n",
        "/*\n",
        " if (info != 0)\n",
        "   printf(\"[WARNING]: argument had an illegal value\\n\");\n",
        "    else\n",
        "    {\n",
        "      printf(\"Solution:\\n\");\n",
        "\n",
        "        for (int i=0; i < size; ++i)\n",
        "          printf(\"[%12g]\\n\",b[i]);\n",
        "     }\n",
        "*/\n",
        "\n",
        "}\n",
        "\n",
        "void anova (double *a, double *x, double *y, double *z, int N, int r)\n",
        "{\n",
        "     int    i, glReg, glR, glT, c, l;\n",
        "     double SQReg, SQR, SQT, QMReg, QMR, R2, F, ze;\n",
        "     FILE   *f;\n",
        "     int s=r;\n",
        "\n",
        "     SQR = SQReg = 0.0;\n",
        "\n",
        "     glReg = N;\n",
        "     glR   = n - 2*N;\n",
        "     glT   = n - N;\n",
        "\n",
        "     /*\n",
        "     printf(\"\\n\\n-----------------------------------\\n\");\n",
        "\n",
        "     for (c = 0; c < r+1; ++c){\n",
        "         for (l = 0; l < s+1; ++l)\n",
        "           //printf(\" a[%2d,%2d]= %2d\\n\",c,l, c*(r+1) + l);\n",
        "\n",
        "     }\n",
        "     printf(\"\\n\\n-----------------------------------\\n\");\n",
        "     */\n",
        "\n",
        "     for (i = 0; i < n; ++i)\n",
        "     {\n",
        "        ze = 0.0;\n",
        "        for(c = 0; c < r+1; ++c)\n",
        "           for(l = 0; l < s+1; ++l)\n",
        "              ze += a[c + l*(r+1)] * pow(x[i], c) * pow(y[i], l);\n",
        "\n",
        "        SQReg += (ze   - zm) * (ze   - zm);\n",
        "        SQR   += (z[i] - ze) * (z[i] - ze);\n",
        "     }\n",
        "\n",
        "     SQT   = SQReg + SQR;\n",
        "     QMReg = SQReg / glReg;\n",
        "     QMR   = SQR   / glR;\n",
        "     F     = QMReg / QMR;\n",
        "     R2    = SQReg / SQT;\n",
        "\n",
        "     if ((f=fopen(ANOVA,\"w\")) == NULL)\n",
        "     {\n",
        "        printf(\"\\n Error I/O\\n\");\n",
        "        exit(2);\n",
        "     }\n",
        "\n",
        "     fprintf(f,\" \\n\\n\\n\\n\");\n",
        "     fprintf(f,\" ANOVA\\n\");\n",
        "     fprintf(f,\" =================================================\\n\");\n",
        "     fprintf(f,\" FV           gl      SQ         QM          F    \\n\");\n",
        "     fprintf(f,\" =================================================\\n\");\n",
        "     fprintf(f,\" Regression  %5d  %12e  %12e  %12e\\n\", glReg, SQReg, QMReg, F);\n",
        "     fprintf(f,\" Residue     %5d  %12e  %12e      \\n\", glR  , SQR  , QMR     );\n",
        "     fprintf(f,\" -------------------------------------------------\\n\");\n",
        "     fprintf(f,\" Total      %5d  %12e            \\n\", glT  , SQT            );\n",
        "     fprintf(f,\" =================================================\\n\");\n",
        "     fprintf(f,\" R^2= %12e                        \\n\", R2       );\n",
        "\n",
        "    // printf (\"P(x)=\");\n",
        "\n",
        "     for (c = 0; c < r+1; ++c)\n",
        "        for (l = 0; l < s+1; ++l){\n",
        "           fprintf(f,\"+x^%d*y^%d*\\t%12g\\n\", c, l, a[c + l*(r+1)]);\n",
        "           //printf (\"%12g*(x**%d)*(y**%d) + \",a[c + l*(r+1)], c, l );\n",
        "     }\n",
        "\n",
        "     fclose(f);\n",
        "\n",
        "}"
      ]
    },
    {
      "cell_type": "code",
      "execution_count": 99,
      "metadata": {
        "id": "0XmnOSRxwPi7"
      },
      "outputs": [],
      "source": [
        "!nvcc r3d-1GPU.cu -o r3d-1GPU -Xcompiler -fopenmp -O3 -lm -lopenblas"
      ]
    },
    {
      "cell_type": "code",
      "execution_count": 100,
      "metadata": {
        "id": "1nGo4T55wPi8",
        "colab": {
          "base_uri": "https://localhost:8080/"
        },
        "outputId": "769aeaa5-194f-40ea-fa43-b44426f3ec78"
      },
      "outputs": [
        {
          "output_type": "stream",
          "name": "stdout",
          "text": [
            "\n",
            " ate aqui ok\n",
            "2\t 2.98\n"
          ]
        }
      ],
      "source": [
        "!./r3d-1GPU 2 64"
      ]
    },
    {
      "cell_type": "markdown",
      "metadata": {
        "id": "imJtfAgjwPi8"
      },
      "source": [
        "## Análise Experimental"
      ]
    },
    {
      "cell_type": "markdown",
      "metadata": {
        "id": "8TYMt_3GwPi8"
      },
      "source": [
        "### I) Validação com Valores Pequenos"
      ]
    },
    {
      "cell_type": "markdown",
      "metadata": {
        "id": "kPvxyRTywPi8"
      },
      "source": [
        "#### Parâmetros Ótimos de Execução"
      ]
    },
    {
      "cell_type": "markdown",
      "metadata": {
        "tags": [],
        "id": "zaOx5mmxwPi9"
      },
      "source": [
        "1. OpenMP = **A** Threads\n",
        "2. MPI = **B** nós + **C** Processos\n",
        "3. MPI + OpenMP = **D** nós + **E** Processos + **F** Threads\n",
        "4. CUDA = G1D B1DT1D (**G** * 32, 1024)"
      ]
    },
    {
      "cell_type": "markdown",
      "metadata": {
        "id": "zuUJZjpbwPi-"
      },
      "source": [
        "### Tempos de execução em segundos das aplicações"
      ]
    },
    {
      "cell_type": "markdown",
      "metadata": {
        "id": "yktjXegnwPi_"
      },
      "source": [
        "|  Grau | Sequencial Lapack| OpenMP | MPI  | Híbrido | CUDA\n",
        "| ----------| ---------- | ------ | ---  | ------- | ----\n",
        "| 2         |            |        |      |         |  \n",
        "| 4         |            |        |      |         |  \n",
        "| 6         |            |        |      |         |  \n",
        "| 8         |            |        |      |         |  \n",
        "| 10        |            |        |      |         |  "
      ]
    },
    {
      "cell_type": "markdown",
      "metadata": {
        "tags": [],
        "id": "h2SX1AK5wPi_"
      },
      "source": [
        "### Speedups"
      ]
    },
    {
      "cell_type": "markdown",
      "metadata": {
        "id": "sxuF_4kmwPjA"
      },
      "source": [
        "|  Grau  |  OpenMP  | MPI     | Híbrido       | CUDA\n",
        "| ---------   | ------   | ------  | -------       | ----\n",
        "| 2           |          |         |               |           \n",
        "| 4           |          |         |               |           \n",
        "| 6           |          |         |               |           \n",
        "| 8           |          |         |               |           \n",
        "| 10          |          |         |               |           "
      ]
    },
    {
      "cell_type": "markdown",
      "metadata": {
        "id": "1JA0kaUZwPjB"
      },
      "source": [
        "### II) Análise de Desempenho com um valor alto - Grau do Polinômio = `20`"
      ]
    },
    {
      "cell_type": "markdown",
      "metadata": {
        "id": "ICi774p0wPjI"
      },
      "source": [
        "#### Parâmetros Ótimos de Execução"
      ]
    },
    {
      "cell_type": "markdown",
      "metadata": {
        "id": "_F2-SrDHwPjI"
      },
      "source": [
        "1. OpenMP = **A** Threads\n",
        "2. MPI = **B** nós + **C** Processos\n",
        "3. MPI + OpenMP = **D** nós + **E** Processos + **F** Threads\n",
        "4. CUDA = G1D B1DT1D (**G** * 32, 1024)"
      ]
    },
    {
      "cell_type": "markdown",
      "metadata": {
        "id": "Rh5Hdnq1wPjJ"
      },
      "source": [
        "### Tempo de execução em segundos das aplicações (referência @muriloboratto)"
      ]
    },
    {
      "cell_type": "markdown",
      "metadata": {
        "id": "DJQOKM2kwPjJ"
      },
      "source": [
        "|  Grau        | Sequencial Lapack| OpenMP  |  CUDA (1 GPU)\n",
        "| -------------| ---------------- | ------- |  -----------\n",
        "| 10           | 2060.14          | 62.55   |      14.72\n",
        "| 20           | 27986.75         | 744.77  |      70.03\n"
      ]
    },
    {
      "cell_type": "markdown",
      "metadata": {
        "id": "smh29fcRwPjJ"
      },
      "source": [
        "### Speedup (referência @muriloboratto)"
      ]
    },
    {
      "cell_type": "markdown",
      "metadata": {
        "id": "AnFmZo0jwPjK"
      },
      "source": [
        "|  Grau        |  OpenMP    |  CUDA (1GPU)\n",
        "| -------------|  --------  |  -----------\n",
        "| 10           |  32X       |     139X\n",
        "| 20           |  37X       |     399X\n"
      ]
    },
    {
      "cell_type": "markdown",
      "metadata": {
        "id": "HY6Uy6vpwPjK"
      },
      "source": [
        "## Conclusões"
      ]
    },
    {
      "cell_type": "markdown",
      "metadata": {
        "id": "rNAhLlbvwPjK"
      },
      "source": [
        "Lorem ipsum dolor sit amet, consectetur adipiscing elit, sed do eiusmod tempor incididunt ut labore et dolore magna aliqua. Ut enim ad minim veniam, quis nostrud exercitation ullamco laboris nisi ut aliquip ex ea commodo consequat. Duis aute irure dolor in reprehenderit in voluptate velit esse cillum dolore eu fugiat nulla pariatur. Excepteur sint occaecat cupidatat non proident, sunt in culpa qui officia deserunt mollit anim id est laborum."
      ]
    },
    {
      "cell_type": "markdown",
      "metadata": {
        "id": "VZQVgQOKwPjL"
      },
      "source": [
        "## Referências Biliográficas"
      ]
    },
    {
      "cell_type": "markdown",
      "metadata": {
        "id": "LELzHvHqwPjL"
      },
      "source": [
        "* G. Coulouris, J. Dollimore, T. Kindberg, G.Blair. Distributed Systems: Concepts and Design, Fifth Edition, Pearson, 2011.\n",
        "\n",
        "* S.Tanenbaum, M. Steen, Distributed Systems: Principles and Paradigms, Second Edition, Pearson, 2006.\n",
        "\n",
        "* David A. Patterson and John L. Hennessy. Computer Organization and Design: The Hardware/Software Interface. Morgan Kaufmann, 5th Edition, 2013.\n",
        "\n",
        "* An Introduction to Parallel Programming by Peter S. Pacheco. Morgan Kauffman.\n",
        "\n",
        "* W. C. Barbosa, An introduction to distributed algorithms, MIT Press, 1997. N. Lynch, Distributed Algorithms, Mit Press, 1996 e Introduction to Distributed Algorithms, Gerard Tel, Cabribridge U. Press, 1994."
      ]
    }
  ],
  "metadata": {
    "kernelspec": {
      "display_name": "Python 3",
      "name": "python3"
    },
    "language_info": {
      "codemirror_mode": {
        "name": "ipython",
        "version": 3
      },
      "file_extension": ".py",
      "mimetype": "text/x-python",
      "name": "python",
      "nbconvert_exporter": "python",
      "pygments_lexer": "ipython3",
      "version": "3.8.8"
    },
    "colab": {
      "provenance": [],
      "gpuType": "T4"
    },
    "accelerator": "GPU"
  },
  "nbformat": 4,
  "nbformat_minor": 0
}