{
  "cells": [
    {
      "cell_type": "markdown",
      "metadata": {
        "id": "llc_DUyaTwSb"
      },
      "source": [
        "<div align=\"center\"><h1> Hackathon HPC SENAI CIMATEC <br>\n",
        "Espacialização de Relevo </h1></div>"
      ]
    },
    {
      "cell_type": "markdown",
      "metadata": {
        "id": "a04ZA1qwTwSc"
      },
      "source": [
        "**Murilo Boratto**$^1$\n",
        "\n",
        "$^1$ Supercomputing Center SENAI CIMATEC, Salvador, Bahia, Brazil"
      ]
    },
    {
      "cell_type": "markdown",
      "metadata": {
        "id": "eUx78tiaTwSc"
      },
      "source": [
        "## Instalação das Bibliotecas no Colab"
      ]
    },
    {
      "cell_type": "markdown",
      "metadata": {
        "id": "8lYuDGPPTwSc"
      },
      "source": [
        "Este é o passo a passo de como instalar as APIs em ambiente virtual do Colab, utilizando a implementação open source."
      ]
    },
    {
      "cell_type": "code",
      "execution_count": 1,
      "metadata": {
        "colab": {
          "base_uri": "https://localhost:8080/"
        },
        "id": "lkKa0BL1TwSc",
        "outputId": "7841e493-5b72-4d91-9790-6af0014c8501"
      },
      "outputs": [
        {
          "output_type": "stream",
          "name": "stdout",
          "text": [
            "Reading package lists... Done\n",
            "Building dependency tree... Done\n",
            "Reading state information... Done\n",
            "libopenblas-dev is already the newest version (0.3.20+ds-1).\n",
            "The following additional packages will be installed:\n",
            "  hwloc-nox libmpich-dev libmpich12 libslurm37\n",
            "Suggested packages:\n",
            "  mpich-doc\n",
            "The following NEW packages will be installed:\n",
            "  hwloc-nox libmpich-dev libmpich12 libslurm37 mpich\n",
            "0 upgraded, 5 newly installed, 0 to remove and 49 not upgraded.\n",
            "Need to get 14.2 MB of archives.\n",
            "After this operation, 102 MB of additional disk space will be used.\n",
            "Get:1 http://archive.ubuntu.com/ubuntu jammy/universe amd64 libslurm37 amd64 21.08.5-2ubuntu1 [542 kB]\n",
            "Get:2 http://archive.ubuntu.com/ubuntu jammy-updates/universe amd64 hwloc-nox amd64 2.7.0-2ubuntu1 [205 kB]\n",
            "Get:3 http://archive.ubuntu.com/ubuntu jammy/universe amd64 libmpich12 amd64 4.0-3 [5,866 kB]\n",
            "Get:4 http://archive.ubuntu.com/ubuntu jammy/universe amd64 mpich amd64 4.0-3 [197 kB]\n",
            "Get:5 http://archive.ubuntu.com/ubuntu jammy/universe amd64 libmpich-dev amd64 4.0-3 [7,375 kB]\n",
            "Fetched 14.2 MB in 4s (3,977 kB/s)\n",
            "debconf: unable to initialize frontend: Dialog\n",
            "debconf: (No usable dialog-like program is installed, so the dialog based frontend cannot be used. at /usr/share/perl5/Debconf/FrontEnd/Dialog.pm line 78, <> line 5.)\n",
            "debconf: falling back to frontend: Readline\n",
            "debconf: unable to initialize frontend: Readline\n",
            "debconf: (This frontend requires a controlling tty.)\n",
            "debconf: falling back to frontend: Teletype\n",
            "dpkg-preconfigure: unable to re-open stdin: \n",
            "Selecting previously unselected package libslurm37.\n",
            "(Reading database ... 123630 files and directories currently installed.)\n",
            "Preparing to unpack .../libslurm37_21.08.5-2ubuntu1_amd64.deb ...\n",
            "Unpacking libslurm37 (21.08.5-2ubuntu1) ...\n",
            "Selecting previously unselected package hwloc-nox.\n",
            "Preparing to unpack .../hwloc-nox_2.7.0-2ubuntu1_amd64.deb ...\n",
            "Unpacking hwloc-nox (2.7.0-2ubuntu1) ...\n",
            "Selecting previously unselected package libmpich12:amd64.\n",
            "Preparing to unpack .../libmpich12_4.0-3_amd64.deb ...\n",
            "Unpacking libmpich12:amd64 (4.0-3) ...\n",
            "Selecting previously unselected package mpich.\n",
            "Preparing to unpack .../archives/mpich_4.0-3_amd64.deb ...\n",
            "Unpacking mpich (4.0-3) ...\n",
            "Selecting previously unselected package libmpich-dev:amd64.\n",
            "Preparing to unpack .../libmpich-dev_4.0-3_amd64.deb ...\n",
            "Unpacking libmpich-dev:amd64 (4.0-3) ...\n",
            "Setting up libslurm37 (21.08.5-2ubuntu1) ...\n",
            "Setting up hwloc-nox (2.7.0-2ubuntu1) ...\n",
            "Setting up libmpich12:amd64 (4.0-3) ...\n",
            "Setting up mpich (4.0-3) ...\n",
            "Setting up libmpich-dev:amd64 (4.0-3) ...\n",
            "Processing triggers for man-db (2.10.2-1) ...\n",
            "Processing triggers for libc-bin (2.35-0ubuntu3.4) ...\n",
            "/sbin/ldconfig.real: /usr/local/lib/libtbb.so.12 is not a symbolic link\n",
            "\n",
            "/sbin/ldconfig.real: /usr/local/lib/libumf.so.0 is not a symbolic link\n",
            "\n",
            "/sbin/ldconfig.real: /usr/local/lib/libtbbmalloc.so.2 is not a symbolic link\n",
            "\n",
            "/sbin/ldconfig.real: /usr/local/lib/libur_loader.so.0 is not a symbolic link\n",
            "\n",
            "/sbin/ldconfig.real: /usr/local/lib/libtbbbind_2_5.so.3 is not a symbolic link\n",
            "\n",
            "/sbin/ldconfig.real: /usr/local/lib/libtcm_debug.so.1 is not a symbolic link\n",
            "\n",
            "/sbin/ldconfig.real: /usr/local/lib/libur_adapter_level_zero.so.0 is not a symbolic link\n",
            "\n",
            "/sbin/ldconfig.real: /usr/local/lib/libur_adapter_opencl.so.0 is not a symbolic link\n",
            "\n",
            "/sbin/ldconfig.real: /usr/local/lib/libtbbbind_2_0.so.3 is not a symbolic link\n",
            "\n",
            "/sbin/ldconfig.real: /usr/local/lib/libtbbmalloc_proxy.so.2 is not a symbolic link\n",
            "\n",
            "/sbin/ldconfig.real: /usr/local/lib/libtcm.so.1 is not a symbolic link\n",
            "\n",
            "/sbin/ldconfig.real: /usr/local/lib/libtbbbind.so.3 is not a symbolic link\n",
            "\n",
            "/sbin/ldconfig.real: /usr/local/lib/libhwloc.so.15 is not a symbolic link\n",
            "\n"
          ]
        }
      ],
      "source": [
        "!sudo apt install mpich libopenblas-dev"
      ]
    },
    {
      "cell_type": "code",
      "source": [
        "!sudo apt-get install liblapack-dev\n"
      ],
      "metadata": {
        "colab": {
          "base_uri": "https://localhost:8080/"
        },
        "id": "HyrPn72AiaGL",
        "outputId": "2cbebf9a-d942-46e7-a4b7-6798efd0711e"
      },
      "execution_count": 57,
      "outputs": [
        {
          "output_type": "stream",
          "name": "stdout",
          "text": [
            "Reading package lists... Done\n",
            "Building dependency tree... Done\n",
            "Reading state information... Done\n",
            "liblapack-dev is already the newest version (3.10.0-2ubuntu1).\n",
            "0 upgraded, 0 newly installed, 0 to remove and 49 not upgraded.\n"
          ]
        }
      ]
    },
    {
      "cell_type": "markdown",
      "metadata": {
        "id": "5CuqEfpTTwSk"
      },
      "source": [
        "### 1 GPU (CUDA)"
      ]
    },
    {
      "cell_type": "code",
      "execution_count": 59,
      "metadata": {
        "colab": {
          "base_uri": "https://localhost:8080/"
        },
        "id": "oF2u8F-ITwSk",
        "outputId": "267514e8-c52a-48ed-fd86-f897b4bcabc0"
      },
      "outputs": [
        {
          "output_type": "stream",
          "name": "stdout",
          "text": [
            "Overwriting r3d-1GPU.cu\n"
          ]
        }
      ],
      "source": [
        "%%writefile r3d-1GPU.cu\n",
        "#include <omp.h>\n",
        "#include <stdio.h>\n",
        "#include <stdlib.h>\n",
        "#include <math.h>\n",
        "#include <cuda_runtime.h>  // Para CUDA Runtime\n",
        "\n",
        "#define Mxx 5026\n",
        "#define Mxy 5026\n",
        "#define INPUT \"mde.pnz\"\n",
        "#define OUTPUT \"output.txt\"\n",
        "#define ANOVA \"anova.txt\"\n",
        "\n",
        "// Protótipos das funções\n",
        "extern \"C\" {\n",
        "    void dgesv_(int *N, int *NRHS, double *A, int *lda, int *ipiv, double *B, int *ldb, int *info);\n",
        "}\n",
        "\n",
        "long int n = 0;  // Número global de pontos\n",
        "double zm = 0.0;  // Média de z\n",
        "\n",
        "void dados(double *x, double *y, double *z);\n",
        "void matrizes(double *A, double *B, double *x, double *y, double *z, int N, int r);\n",
        "void sistema_Lapack(double *A, double *B, int N);\n",
        "void anova(double *A, double *x, double *y, double *z, int N, int r);\n",
        "\n",
        "int main(int argc, char **argv) {\n",
        "    int r = atoi(argv[1]);  // Degree of the polynomial\n",
        "    int s = r;               // Simplify Polynomial Degree\n",
        "    int N = (r + 1) * (s + 1);  // Number of coefficients of polynomial Landform\n",
        "    int MAX = (Mxx + 1) * (Mxy + 1);\n",
        "\n",
        "    double *A = (double*)malloc(sizeof(double) * N * N);\n",
        "    double *B = (double*)malloc(sizeof(double) * N);\n",
        "    double *x = (double*)malloc(sizeof(double) * MAX);\n",
        "    double *y = (double*)malloc(sizeof(double) * MAX);\n",
        "    double *z = (double*)malloc(sizeof(double) * MAX);\n",
        "\n",
        "    double t1, t2;\n",
        "\n",
        "    // Inicializa o tempo\n",
        "    t1 = omp_get_wtime();\n",
        "\n",
        "    // Etapas do processo\n",
        "    dados(x, y, z);\n",
        "    matrizes(A, B, x, y, z, N, r);\n",
        "    sistema_Lapack(A, B, N);\n",
        "    anova(B, x, y, z, N, r);\n",
        "\n",
        "    // Finaliza o tempo\n",
        "    t2 = omp_get_wtime();\n",
        "\n",
        "    printf(\"%d\\t%5.2f\\n\", r, t2 - t1);\n",
        "\n",
        "    // Libera a memória alocada\n",
        "    free(A);\n",
        "    free(B);\n",
        "    free(x);\n",
        "    free(y);\n",
        "    free(z);\n",
        "\n",
        "    return 0;\n",
        "}\n",
        "\n",
        "void dados(double *x, double *y, double *z) {\n",
        "    int col, row, count = -1;\n",
        "    FILE *f;\n",
        "    n = 0;  // Inicializa n aqui\n",
        "\n",
        "    if ((f = fopen(INPUT, \"r\")) == NULL) {\n",
        "        printf(\"\\n Erro I/O\\n\");\n",
        "        exit(1);\n",
        "    }\n",
        "\n",
        "    for (row = 0; row < Mxy; ++row) {\n",
        "        for (col = 0; col < Mxx; ++col) {\n",
        "            float h;\n",
        "            int result = fscanf(f, \"%f\", &h);\n",
        "            count++;\n",
        "            if (count % 10 != 0 || h <= 0) continue;\n",
        "            x[n] = row;\n",
        "            y[n] = col;\n",
        "            z[n] = h / 2863.0;\n",
        "            n++;  // Incrementa n para o próximo ponto\n",
        "        }\n",
        "    }\n",
        "\n",
        "    // Calcula a média de z para armazenar em zm\n",
        "    double sum = 0.0;\n",
        "    for (int i = 0; i < n; i++) {\n",
        "        sum += z[i];\n",
        "    }\n",
        "    zm = sum / n;  // Calcula a média\n",
        "\n",
        "    fclose(f);\n",
        "}\n",
        "\n",
        "void matrizes(double *A, double *B, double *x, double *y, double *z, int N, int r) {\n",
        "    int i, l, c;\n",
        "    int s = r;\n",
        "\n",
        "    for (l = 0; l < N; ++l) {\n",
        "        for (c = 0; c < N; ++c) {\n",
        "            A[l + c * N] = 0.0;\n",
        "\n",
        "            if (c == 0)\n",
        "                B[l] = 0.0;\n",
        "\n",
        "            for (i = 0; i < n; ++i) {  // Usando n aqui\n",
        "                A[l + c * N] += pow(x[i], (int)(l / (s + 1)) + (int)(c / (s + 1))) * pow(y[i], l % (r + 1) + c % (r + 1));\n",
        "                if (c == 0)\n",
        "                    B[l] += z[i] * pow(x[i], (int)(l / (s + 1))) * pow(y[i], l % (r + 1));\n",
        "            }\n",
        "        }\n",
        "    }\n",
        "}\n",
        "\n",
        "void sistema_Lapack(double *A, double *B, int N) {\n",
        "    int NRHS = 1;\n",
        "    int info;\n",
        "    int *ipiv = (int*)malloc(sizeof(int) * (10 * N));\n",
        "    dgesv_(&N, &NRHS, A, &N, ipiv, B, &N, &info);\n",
        "}\n",
        "\n",
        "void anova(double *A, double *x, double *y, double *z, int N, int r) {\n",
        "    int i, glReg, glR, glT, c, l;\n",
        "    double SQReg, SQR, SQT, QMReg, QMR, R2, F, ze;\n",
        "    FILE *f;\n",
        "    int s = r;\n",
        "\n",
        "    SQR = SQReg = 0.0;\n",
        "    glReg = N;\n",
        "    glR = n - 2 * N;\n",
        "    glT = n - N;\n",
        "\n",
        "    for (i = 0; i < n; ++i) {  // Usando n aqui\n",
        "        ze = 0.0;\n",
        "        for (c = 0; c < r + 1; ++c)\n",
        "            for (l = 0; l < s + 1; ++l)\n",
        "                ze += A[c + l * (r + 1)] * pow(x[i], c) * pow(y[i], l);\n",
        "\n",
        "        SQReg += (ze - zm) * (ze - zm);\n",
        "        SQR += (z[i] - ze) * (z[i] - ze);\n",
        "    }\n",
        "\n",
        "    SQT = SQReg + SQR;\n",
        "    QMReg = SQReg / glReg;\n",
        "    QMR = SQR / glR;\n",
        "    F = QMReg / QMR;\n",
        "    R2 = SQReg / SQT;\n",
        "\n",
        "    if ((f = fopen(ANOVA, \"w\")) == NULL) {\n",
        "        printf(\"\\n Error I/O\\n\");\n",
        "        exit(2);\n",
        "    }\n",
        "\n",
        "    fprintf(f, \" \\n\\n\\n\\n\");\n",
        "    fprintf(f, \" ANOVA\\n\");\n",
        "    fprintf(f, \" =================================================\\n\");\n",
        "    fprintf(f, \" FV           gl      SQ         QM          F    \\n\");\n",
        "    fprintf(f, \" =================================================\\n\");\n",
        "    fprintf(f, \" Regression  %5d  %12e  %12e  %12e\\n\", glReg, SQReg, QMReg, F);\n",
        "    fprintf(f, \" Residue     %5d  %12e  %12e      \\n\", glR, SQR, QMR);\n",
        "    fprintf(f, \" -------------------------------------------------\\n\");\n",
        "    fprintf(f, \" Total      %5d  %12e            \\n\", glT, SQT);\n",
        "    fprintf(f, \" =================================================\\n\");\n",
        "    fprintf(f, \" R^2= %12e                        \\n\", R2);\n",
        "\n",
        "    for (c = 0; c < r + 1; ++c)\n",
        "        for (l = 0; l < s + 1; ++l) {\n",
        "            fprintf(f, \"+x^%d*y^%d*\\t%12g\\n\", c, l, A[c + l * (r + 1)]);\n",
        "        }\n",
        "\n",
        "    fclose(f);\n",
        "}"
      ]
    },
    {
      "cell_type": "code",
      "execution_count": 61,
      "metadata": {
        "colab": {
          "base_uri": "https://localhost:8080/"
        },
        "id": "-HuBlnz-TwSk",
        "outputId": "417e78d6-cd5b-4059-f8c6-587ca054b0cd"
      },
      "outputs": [
        {
          "output_type": "stream",
          "name": "stdout",
          "text": [
            "\u001b[01m\u001b[0m\u001b[01mr3d-1GPU.cu(148)\u001b[0m: \u001b[01;35mwarning\u001b[0m #177-D: variable \u001b[01m\"i\"\u001b[0m was declared but never referenced\n",
            "   int i;\n",
            "       ^\n",
            "\n",
            "\u001b[01;36m\u001b[0m\u001b[01;36mRemark\u001b[0m: The warnings can be suppressed with \"-diag-suppress <warning-number>\"\n",
            "\n"
          ]
        }
      ],
      "source": [
        "!nvcc r3d-1GPU.cu -o r3d-1GPU -Xcompiler=\"-fopenmp -O3 -lm\" -lcublas -lcurand -lblas -llapack"
      ]
    },
    {
      "cell_type": "code",
      "execution_count": 62,
      "metadata": {
        "colab": {
          "base_uri": "https://localhost:8080/"
        },
        "id": "eX2J9dJdTwSl",
        "outputId": "5d54ad35-95bf-46d5-e1c3-8d0fefbecd98"
      },
      "outputs": [
        {
          "output_type": "stream",
          "name": "stdout",
          "text": [
            "\n",
            " n (number of operations for point in the matrix) = 1365248\n",
            "2\t860.28\n"
          ]
        }
      ],
      "source": [
        "!./r3d-1GPU 2 64"
      ]
    },
    {
      "cell_type": "markdown",
      "metadata": {
        "id": "eEnejYIETwSl"
      },
      "source": [
        "## Análise Experimental"
      ]
    },
    {
      "cell_type": "markdown",
      "metadata": {
        "id": "KLZEhJXfTwSl"
      },
      "source": [
        "### I) Validação com Valores Pequenos"
      ]
    },
    {
      "cell_type": "markdown",
      "metadata": {
        "id": "EfIFbuBwTwSl"
      },
      "source": [
        "#### Parâmetros Ótimos de Execução"
      ]
    },
    {
      "cell_type": "markdown",
      "metadata": {
        "tags": [],
        "id": "kNeLkZN9TwSl"
      },
      "source": [
        "1. OpenMP = **A** Threads\n",
        "2. MPI = **B** nós + **C** Processos\n",
        "3. MPI + OpenMP = **D** nós + **E** Processos + **F** Threads\n",
        "4. CUDA = G1D B1DT1D (**G** * 32, 1024)"
      ]
    },
    {
      "cell_type": "markdown",
      "metadata": {
        "id": "1tMAoGxRTwSl"
      },
      "source": [
        "### Tempos de execução em segundos das aplicações"
      ]
    },
    {
      "cell_type": "markdown",
      "metadata": {
        "id": "akQOpRVQTwSl"
      },
      "source": [
        "|  Grau | Sequencial Lapack| OpenMP | MPI  | Híbrido | CUDA\n",
        "| ----------| ---------- | ------ | ---  | ------- | ----\n",
        "| 2         |            |        |      |         |  \n",
        "| 4         |            |        |      |         |  \n",
        "| 6         |            |        |      |         |  \n",
        "| 8         |            |        |      |         |  \n",
        "| 10        |            |        |      |         |  "
      ]
    },
    {
      "cell_type": "markdown",
      "metadata": {
        "tags": [],
        "id": "ORc5pkjpTwSl"
      },
      "source": [
        "### Speedups"
      ]
    },
    {
      "cell_type": "markdown",
      "metadata": {
        "id": "r1PFInMITwSl"
      },
      "source": [
        "|  Grau  |  OpenMP  | MPI     | Híbrido       | CUDA\n",
        "| ---------   | ------   | ------  | -------       | ----\n",
        "| 2           |          |         |               |           \n",
        "| 4           |          |         |               |           \n",
        "| 6           |          |         |               |           \n",
        "| 8           |          |         |               |           \n",
        "| 10          |          |         |               |           "
      ]
    },
    {
      "cell_type": "markdown",
      "metadata": {
        "id": "nYvRfxL4TwSl"
      },
      "source": [
        "### II) Análise de Desempenho com um valor alto - Grau do Polinômio = `20`"
      ]
    },
    {
      "cell_type": "markdown",
      "metadata": {
        "id": "a3Y-BllJTwSl"
      },
      "source": [
        "#### Parâmetros Ótimos de Execução"
      ]
    },
    {
      "cell_type": "markdown",
      "metadata": {
        "id": "olxP8A6uTwSl"
      },
      "source": [
        "1. OpenMP = **A** Threads\n",
        "2. MPI = **B** nós + **C** Processos\n",
        "3. MPI + OpenMP = **D** nós + **E** Processos + **F** Threads\n",
        "4. CUDA = G1D B1DT1D (**G** * 32, 1024)"
      ]
    },
    {
      "cell_type": "markdown",
      "metadata": {
        "id": "gZC4UtJ4TwSl"
      },
      "source": [
        "### Tempo de execução em segundos das aplicações (referência @muriloboratto)"
      ]
    },
    {
      "cell_type": "markdown",
      "metadata": {
        "id": "sZGu9bqhTwSl"
      },
      "source": [
        "|  Grau        | Sequencial Lapack| OpenMP  |  CUDA (1 GPU)\n",
        "| -------------| ---------------- | ------- |  -----------\n",
        "| 10           | 2060.14          | 62.55   |      14.72\n",
        "| 20           | 27986.75         | 744.77  |      70.03\n"
      ]
    },
    {
      "cell_type": "markdown",
      "metadata": {
        "id": "mdBh0_laTwSl"
      },
      "source": [
        "### Speedup (referência @muriloboratto)"
      ]
    },
    {
      "cell_type": "markdown",
      "metadata": {
        "id": "qIz4THFTTwSl"
      },
      "source": [
        "|  Grau        |  OpenMP    |  CUDA (1GPU)\n",
        "| -------------|  --------  |  -----------\n",
        "| 10           |  32X       |     139X\n",
        "| 20           |  37X       |     399X\n"
      ]
    },
    {
      "cell_type": "markdown",
      "metadata": {
        "id": "Yk2zqgsPTwSl"
      },
      "source": [
        "## Conclusões"
      ]
    },
    {
      "cell_type": "markdown",
      "metadata": {
        "id": "tcnkZbd_TwSm"
      },
      "source": [
        "Lorem ipsum dolor sit amet, consectetur adipiscing elit, sed do eiusmod tempor incididunt ut labore et dolore magna aliqua. Ut enim ad minim veniam, quis nostrud exercitation ullamco laboris nisi ut aliquip ex ea commodo consequat. Duis aute irure dolor in reprehenderit in voluptate velit esse cillum dolore eu fugiat nulla pariatur. Excepteur sint occaecat cupidatat non proident, sunt in culpa qui officia deserunt mollit anim id est laborum."
      ]
    },
    {
      "cell_type": "markdown",
      "metadata": {
        "id": "ozJIC8lrTwSm"
      },
      "source": [
        "## Referências Biliográficas"
      ]
    },
    {
      "cell_type": "markdown",
      "metadata": {
        "id": "8WtjurcXTwSm"
      },
      "source": [
        "* G. Coulouris, J. Dollimore, T. Kindberg, G.Blair. Distributed Systems: Concepts and Design, Fifth Edition, Pearson, 2011.\n",
        "\n",
        "* S.Tanenbaum, M. Steen, Distributed Systems: Principles and Paradigms, Second Edition, Pearson, 2006.\n",
        "\n",
        "* David A. Patterson and John L. Hennessy. Computer Organization and Design: The Hardware/Software Interface. Morgan Kaufmann, 5th Edition, 2013.\n",
        "\n",
        "* An Introduction to Parallel Programming by Peter S. Pacheco. Morgan Kauffman.\n",
        "\n",
        "* W. C. Barbosa, An introduction to distributed algorithms, MIT Press, 1997. N. Lynch, Distributed Algorithms, Mit Press, 1996 e Introduction to Distributed Algorithms, Gerard Tel, Cabribridge U. Press, 1994."
      ]
    }
  ],
  "metadata": {
    "kernelspec": {
      "display_name": "Python 3",
      "name": "python3"
    },
    "language_info": {
      "codemirror_mode": {
        "name": "ipython",
        "version": 3
      },
      "file_extension": ".py",
      "mimetype": "text/x-python",
      "name": "python",
      "nbconvert_exporter": "python",
      "pygments_lexer": "ipython3",
      "version": "3.8.8"
    },
    "colab": {
      "provenance": [],
      "collapsed_sections": [
        "eEnejYIETwSl"
      ],
      "gpuType": "T4"
    },
    "accelerator": "GPU"
  },
  "nbformat": 4,
  "nbformat_minor": 0
}